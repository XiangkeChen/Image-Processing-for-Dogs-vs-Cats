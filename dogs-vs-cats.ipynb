{
 "cells": [
  {
   "cell_type": "markdown",
   "metadata": {
    "colab_type": "text",
    "id": "2Fqm0A6sjjy-"
   },
   "source": [
    "### Set up google colab enviroment"
   ]
  },
  {
   "cell_type": "code",
   "execution_count": 6,
   "metadata": {
    "colab": {
     "base_uri": "https://localhost:8080/",
     "height": 80
    },
    "colab_type": "code",
    "executionInfo": {
     "elapsed": 34607,
     "status": "ok",
     "timestamp": 1574654184577,
     "user": {
      "displayName": "Xiangke Chen",
      "photoUrl": "https://lh3.googleusercontent.com/a-/AAuE7mBo3viS05kMKQZYjSuwxlKE1DIRESYXEICYmbGPSw=s64",
      "userId": "04092284610189200730"
     },
     "user_tz": 360
    },
    "id": "7Rjo6AthNnKj",
    "outputId": "1b76055f-82d6-4710-cfdc-294527bef558"
   },
   "outputs": [
    {
     "name": "stderr",
     "output_type": "stream",
     "text": [
      "Using TensorFlow backend.\n"
     ]
    },
    {
     "data": {
      "text/html": [
       "<p style=\"color: red;\">\n",
       "The default version of TensorFlow in Colab will soon switch to TensorFlow 2.x.<br>\n",
       "We recommend you <a href=\"https://www.tensorflow.org/guide/migrate\" target=\"_blank\">upgrade</a> now \n",
       "or ensure your notebook will continue to use TensorFlow 1.x via the <code>%tensorflow_version 1.x</code> magic:\n",
       "<a href=\"https://colab.research.google.com/notebooks/tensorflow_version.ipynb\" target=\"_blank\">more info</a>.</p>\n"
      ],
      "text/plain": [
       "<IPython.core.display.HTML object>"
      ]
     },
     "metadata": {
      "tags": []
     },
     "output_type": "display_data"
    }
   ],
   "source": [
    "from keras.optimizers import RMSprop\n",
    "from keras.layers import Input, Dropout, Flatten, Conv2D, MaxPooling2D, Dense, Activation, ZeroPadding2D, Add\n",
    "from keras.callbacks import ModelCheckpoint, Callback, EarlyStopping\n",
    "from keras.utils import np_utils\n",
    "from keras import Sequential\n",
    "from keras.models import Sequential\n",
    "from keras.layers import Conv2D, MaxPooling2D, Dropout, Flatten, Dense, Activation, BatchNormalization\n",
    "from sklearn.model_selection import train_test_split\n",
    "import cv2\n",
    "import random\n",
    "import numpy as np\n",
    "import pandas as pd\n",
    "import os \n",
    "import matplotlib.pyplot as plt\n",
    "import seaborn as sns\n",
    "%matplotlib inline"
   ]
  },
  {
   "cell_type": "markdown",
   "metadata": {
    "colab_type": "text",
    "id": "mFYdJHIqNnKo"
   },
   "source": [
    "### Set up user-defined functions"
   ]
  },
  {
   "cell_type": "code",
   "execution_count": 0,
   "metadata": {
    "colab": {},
    "colab_type": "code",
    "id": "1YivYuBkNnKq"
   },
   "outputs": [],
   "source": [
    "def read_image(file_path):\n",
    "    img = cv2.imread(file_path, cv2.IMREAD_COLOR) #cv2.IMREAD_GRAYSCALE\n",
    "    return cv2.resize(img, (ROWS, COLS), interpolation=cv2.INTER_CUBIC)\n",
    "\n",
    "def prep_data(images):\n",
    "    count = len(images)\n",
    "    data = np.ndarray((count, CHANNELS, ROWS, COLS), dtype=np.uint8)\n",
    "\n",
    "    for i, image_file in enumerate(images):\n",
    "        image = read_image(image_file)\n",
    "        data[i] = image.T\n",
    "    \n",
    "    return data"
   ]
  },
  {
   "cell_type": "code",
   "execution_count": 0,
   "metadata": {
    "colab": {},
    "colab_type": "code",
    "id": "sblg4amSNnKs"
   },
   "outputs": [],
   "source": [
    "def get_result(prediction):\n",
    "    img_list = []\n",
    "    for img in test_images:\n",
    "        img_list.append(int(img.split('/')[-1].split('.')[0]))\n",
    "    \n",
    "    result = []\n",
    "    for i in range(len(img_list)):\n",
    "        result.append((img_list[i],prediction[i][0]))\n",
    "        \n",
    "    col_name = ['id','label']\n",
    "    df = pd.DataFrame(result, columns = col_name).sort_values(by = 'id')\n",
    "    return df"
   ]
  },
  {
   "cell_type": "markdown",
   "metadata": {
    "colab_type": "text",
    "id": "lVNkZn1fNnKu"
   },
   "source": [
    "### Loading Pictures"
   ]
  },
  {
   "cell_type": "code",
   "execution_count": 0,
   "metadata": {
    "colab": {},
    "colab_type": "code",
    "id": "eYsg6HrKNnKz"
   },
   "outputs": [],
   "source": [
    "TRAIN_DIR = 'data/train/'\n",
    "TEST_DIR = 'data/test/'\n",
    "\n",
    "ROWS = 64\n",
    "COLS = 64\n",
    "CHANNELS = 3\n",
    "\n",
    "# my laptop hidder file. Contain the words 'DS'\n",
    "train_images = [TRAIN_DIR + i for i in os.listdir(TRAIN_DIR)]\n",
    "test_images = [TEST_DIR + i for i in os.listdir(TEST_DIR)]\n",
    "random.shuffle(test_images)\n",
    "random.shuffle(train_images)"
   ]
  },
  {
   "cell_type": "code",
   "execution_count": 0,
   "metadata": {
    "colab": {
     "base_uri": "https://localhost:8080/",
     "height": 51
    },
    "colab_type": "code",
    "executionInfo": {
     "elapsed": 118866,
     "status": "ok",
     "timestamp": 1574526272524,
     "user": {
      "displayName": "Xiangke Chen",
      "photoUrl": "https://lh3.googleusercontent.com/a-/AAuE7mBo3viS05kMKQZYjSuwxlKE1DIRESYXEICYmbGPSw=s64",
      "userId": "04092284610189200730"
     },
     "user_tz": 360
    },
    "id": "IISXC5CUPb1k",
    "outputId": "d79c31e5-212d-43b8-b4eb-979687d817c4"
   },
   "outputs": [
    {
     "name": "stdout",
     "output_type": "stream",
     "text": [
      "Train shape: (25000, 3, 64, 64)\n",
      "Test shape: (12500, 3, 64, 64)\n"
     ]
    }
   ],
   "source": [
    "train = prep_data(train_images)\n",
    "test = prep_data(test_images)\n",
    "\n",
    "# print the image shape\n",
    "print(\"Train shape: {}\".format(train.shape))\n",
    "print(\"Test shape: {}\".format(test.shape))"
   ]
  },
  {
   "cell_type": "code",
   "execution_count": 0,
   "metadata": {
    "colab": {
     "base_uri": "https://localhost:8080/",
     "height": 298
    },
    "colab_type": "code",
    "executionInfo": {
     "elapsed": 117895,
     "status": "ok",
     "timestamp": 1574526272760,
     "user": {
      "displayName": "Xiangke Chen",
      "photoUrl": "https://lh3.googleusercontent.com/a-/AAuE7mBo3viS05kMKQZYjSuwxlKE1DIRESYXEICYmbGPSw=s64",
      "userId": "04092284610189200730"
     },
     "user_tz": 360
    },
    "id": "aWSLuDMyNnLA",
    "outputId": "47b4abcc-0259-436d-aaa6-7c05e9948102",
    "scrolled": true
   },
   "outputs": [
    {
     "data": {
      "text/plain": [
       "Text(0.5, 1.0, 'Cats and Dogs')"
      ]
     },
     "execution_count": 12,
     "metadata": {
      "tags": []
     },
     "output_type": "execute_result"
    },
    {
     "data": {
      "image/png": "[encoded data removed]",
      "text/plain": [
       "<Figure size 432x288 with 1 Axes>"
      ]
     },
     "metadata": {
      "tags": []
     },
     "output_type": "display_data"
    }
   ],
   "source": [
    "labels = [1 if 'dog' in i else 0 for i in train_images]\n",
    "sns.countplot(labels)\n",
    "plt.title('Cats and Dogs')"
   ]
  },
  {
   "cell_type": "markdown",
   "metadata": {
    "colab_type": "text",
    "id": "a2cjbJYrNnLG"
   },
   "source": [
    "### Start Training"
   ]
  },
  {
   "cell_type": "markdown",
   "metadata": {
    "colab_type": "text",
    "id": "7ZvyQ60AjrlM"
   },
   "source": [
    "Establish my baseline model"
   ]
  },
  {
   "cell_type": "code",
   "execution_count": 0,
   "metadata": {
    "colab": {},
    "colab_type": "code",
    "id": "_PrgoO1bPR-Z"
   },
   "outputs": [],
   "source": [
    "def my_Conv2D_network(optimize):\n",
    "    model = Sequential()\n",
    "\n",
    "    model.add(Conv2D(32, (3, 3), activation='relu', input_shape=(3),data_format='channels_first'))\n",
    "    model.add(BatchNormalization())\n",
    "    model.add(MaxPooling2D(pool_size=(2, 2)))\n",
    "    model.add(Dropout(0.25))\n",
    "\n",
    "    model.add(Conv2D(64, (3, 3), activation='relu'))\n",
    "    model.add(BatchNormalization())\n",
    "    model.add(MaxPooling2D(pool_size=(2, 2)))\n",
    "    model.add(Dropout(0.25))\n",
    "\n",
    "    model.add(Conv2D(128, (3, 3), activation='relu'))\n",
    "    model.add(BatchNormalization())\n",
    "    model.add(MaxPooling2D(pool_size=(2, 2)))\n",
    "    model.add(Dropout(0.25))\n",
    "\n",
    "    model.add(Flatten())\n",
    "    model.add(Dense(512, activation='relu'))\n",
    "    model.add(BatchNormalization())\n",
    "    model.add(Dropout(0.5))\n",
    "    model.add(Dense(1, activation='sigmoid')) # 2 because we have cat and dog classes\n",
    "\n",
    "    model.compile(loss='binary_crossentropy', optimizer= optimize, metrics=['accuracy'])\n",
    "\n",
    "    return model\n",
    "# model.summary()"
   ]
  },
  {
   "cell_type": "code",
   "execution_count": 0,
   "metadata": {
    "colab": {},
    "colab_type": "code",
    "id": "ADL-AIenNnLH"
   },
   "outputs": [],
   "source": [
    "model = my_Conv2D_network('rmsprop')"
   ]
  },
  {
   "cell_type": "code",
   "execution_count": 0,
   "metadata": {
    "colab": {},
    "colab_type": "code",
    "hide_input": false,
    "id": "PETlrAHvNnLL"
   },
   "outputs": [],
   "source": [
    "earlystop = EarlyStopping(patience=3)\n",
    "model.fit(train, labels, batch_size= 200, epochs = 20,\n",
    "          validation_split=0.3, verbose=0, shuffle=True, callbacks=[early_stopping])"
   ]
  },
  {
   "cell_type": "code",
   "execution_count": 0,
   "metadata": {
    "colab": {},
    "colab_type": "code",
    "id": "ibpDTvXkNnLS"
   },
   "outputs": [],
   "source": [
    "predictions = model.predict(test)"
   ]
  },
  {
   "cell_type": "code",
   "execution_count": 0,
   "metadata": {
    "colab": {},
    "colab_type": "code",
    "id": "vAqTzbnINnLZ"
   },
   "outputs": [],
   "source": [
    "df = get_result(predictions)\n",
    "df.to_csv('sample_result_rmsp.csv', index = False)"
   ]
  },
  {
   "cell_type": "markdown",
   "metadata": {
    "colab_type": "text",
    "id": "UNsEfmrnNnLc"
   },
   "source": [
    "My convolutional neural network gives me a **Logloss** of 0.46234"
   ]
  },
  {
   "cell_type": "markdown",
   "metadata": {
    "colab_type": "text",
    "id": "7gxD0OCONnLd"
   },
   "source": [
    "The above method didn't try to do image normalization. All the images are colored images so that they need divided by 255 which is the total number of RGB encoder. So in the following steps, I tried normalized training data"
   ]
  },
  {
   "cell_type": "code",
   "execution_count": 0,
   "metadata": {
    "colab": {},
    "colab_type": "code",
    "id": "E7j0j29TNnLe"
   },
   "outputs": [],
   "source": [
    "train_255 = train / 255\n",
    "test_255 = test / 255"
   ]
  },
  {
   "cell_type": "code",
   "execution_count": 0,
   "metadata": {
    "colab": {},
    "colab_type": "code",
    "id": "B6_6TKcTNnLu"
   },
   "outputs": [],
   "source": [
    "model = my_Conv2D_network('rmsprop')"
   ]
  },
  {
   "cell_type": "code",
   "execution_count": 0,
   "metadata": {
    "colab": {},
    "colab_type": "code",
    "id": "49oaRpZVNnLw"
   },
   "outputs": [],
   "source": [
    "earlystop = EarlyStopping(patience = 3)\n",
    "model.fit(train_255, labels, batch_size= 200, epochs = 20,\n",
    "              validation_split=0.3, verbose=0, shuffle=True, callbacks=[early_stopping])"
   ]
  },
  {
   "cell_type": "code",
   "execution_count": 0,
   "metadata": {
    "colab": {},
    "colab_type": "code",
    "id": "smlTyJGRNnLy"
   },
   "outputs": [],
   "source": [
    "predictions2 = model.predict(test_255)"
   ]
  },
  {
   "cell_type": "code",
   "execution_count": 0,
   "metadata": {
    "colab": {},
    "colab_type": "code",
    "id": "BBJzgVJTNnL1"
   },
   "outputs": [],
   "source": [
    "df = get_result(predictions2)\n",
    "df.to_csv('sample_result_rmsp_255.csv', index = False)"
   ]
  },
  {
   "cell_type": "markdown",
   "metadata": {
    "colab_type": "text",
    "id": "KZC5nrbgNnL3"
   },
   "source": [
    "Only changing the training data, the same hyper-parameter settings of my convolutional neural network gives me a **Logloss** of 0.51420, which is higher than the previous one."
   ]
  },
  {
   "cell_type": "markdown",
   "metadata": {
    "colab_type": "text",
    "id": "0iRZCZlWNnL4"
   },
   "source": [
    "Here, let's try adam optimizer"
   ]
  },
  {
   "cell_type": "code",
   "execution_count": 0,
   "metadata": {
    "colab": {},
    "colab_type": "code",
    "id": "i1csunBYNnL5"
   },
   "outputs": [],
   "source": [
    "model = my_Conv2D_network('adam')"
   ]
  },
  {
   "cell_type": "code",
   "execution_count": 0,
   "metadata": {
    "colab": {},
    "colab_type": "code",
    "id": "28hXC8kQNnL6"
   },
   "outputs": [],
   "source": [
    "earlystop = EarlyStopping(patience = 3)\n",
    "model.fit(train255, label, batch_size= 200, epochs = 20,\n",
    "              validation_split=0.3, verbose=0, shuffle=True, callbacks=[early_stopping])"
   ]
  },
  {
   "cell_type": "code",
   "execution_count": 0,
   "metadata": {
    "colab": {},
    "colab_type": "code",
    "id": "9On505l5NnL8"
   },
   "outputs": [],
   "source": [
    "predictions3 = model.predict(test_255)"
   ]
  },
  {
   "cell_type": "code",
   "execution_count": 0,
   "metadata": {
    "colab": {},
    "colab_type": "code",
    "id": "krkPKTIENnMC"
   },
   "outputs": [],
   "source": [
    "df = get_result(predictions3)\n",
    "df.to_csv('sample_result_adam_255.csv', index = False)"
   ]
  },
  {
   "cell_type": "markdown",
   "metadata": {
    "colab_type": "text",
    "id": "FXORUbG-NnMG"
   },
   "source": [
    "Only changing the optimizer to adam, the same hyper-parameter settings of my convolutional neural network gives me a Logloss of 0.47716, which is higher than the previous one."
   ]
  },
  {
   "cell_type": "markdown",
   "metadata": {
    "colab_type": "text",
    "id": "eIwEdzhNltVY"
   },
   "source": [
    "### Try Deep Neural Network"
   ]
  },
  {
   "cell_type": "markdown",
   "metadata": {
    "colab_type": "text",
    "id": "WhTG-uhTzoOL"
   },
   "source": [
    "And then, I tried some deep neural networks."
   ]
  },
  {
   "cell_type": "code",
   "execution_count": 0,
   "metadata": {
    "colab": {},
    "colab_type": "code",
    "id": "H5SVHyyalt8Z"
   },
   "outputs": [],
   "source": [
    "from keras.applications.resnet50 import ResNet50\n",
    "from keras.applications import VGG16,VGG19\n",
    "from keras import backend as K\n",
    "from keras.layers import Dense, Dropout, Flatten, Conv2D, MaxPool2D,GlobalAveragePooling2D\n",
    "from keras.models import Sequential,Model,load_model\n",
    "from keras.optimizers import SGD, Adam, RMSprop\n",
    "K.set_image_data_format('channels_first') # use ' rather than \"\"\n",
    "from keras.callbacks import EarlyStopping"
   ]
  },
  {
   "cell_type": "code",
   "execution_count": 0,
   "metadata": {
    "colab": {},
    "colab_type": "code",
    "id": "ia6SkS4IsW1Z"
   },
   "outputs": [],
   "source": [
    "def my_network(my_model,dropout,bsize):\n",
    "  x = my_model.output\n",
    "  x = GlobalAveragePooling2D()(x)\n",
    "  x = Dropout(dropout)(x)\n",
    "  predictions = Dense(1, activation= 'sigmoid')(x)\n",
    "  model = Model(inputs = my_model.input, outputs = predictions)\n",
    "  # sgd = SGD(lr=lrate, momentum=0.9, decay=decay, nesterov=False)\n",
    "  adam = Adam(lr=0.0001)\n",
    "  # adam = Adam(lr=0.00005)\n",
    "  model.compile(optimizer= adam, loss='binary_crossentropy', metrics=['acc'])\n",
    "  early_stopping = EarlyStopping(patience=5,monitor='loss')\n",
    "  model.fit(train, labels, epochs = 20, batch_size = 128 , callbacks=[early_stopping])\n",
    "  return model"
   ]
  },
  {
   "cell_type": "markdown",
   "metadata": {},
   "source": [
    "#### VGG 16"
   ]
  },
  {
   "cell_type": "markdown",
   "metadata": {
    "colab_type": "text",
    "id": "PUiXkaEh8Ugj"
   },
   "source": [
    "Below, I am tring different hyparameter seetings with **VGG16** models.\n",
    "\n",
    "Here is the summary:\n",
    "with my basic model\n",
    "\n",
    "* droppout rate = 0.2, batch size = 128, epochs = 20, log_loss = 0.56050\n",
    "* droppout rate = 0.3, batch size = 128, epochs = 20, log_loss = 0.65193\n",
    "* droppout rate = 0.1, batch size = 128, epochs = 20, log_loss = 0.80925\n",
    "* droppout rate = 0.6, batch size = 128, epochs = 20, log_loss = 0.80039\n",
    "* droppout rate = 0.2, batch size = 64, epochs = 20, log_loss = 0.60747"
   ]
  },
  {
   "cell_type": "code",
   "execution_count": 0,
   "metadata": {
    "colab": {},
    "colab_type": "code",
    "id": "u2Mqn9_Ps1QB"
   },
   "outputs": [],
   "source": [
    "vgg16 = VGG16(weights= None, include_top=False, input_shape= (3,64,64))\n",
    "vgg16_model = my_network(vgg16,0.2,128)\n",
    "prediction_vgg16 = vgg16_model.predict(test)\n",
    "df = get_result(prediction_vgg16)\n",
    "df.to_csv('/content/drive/My Drive/6420 Predictive Analytics/HOMEWORK/HW4/vgg16.csv', index = False)"
   ]
  },
  {
   "cell_type": "code",
   "execution_count": 0,
   "metadata": {
    "colab": {},
    "colab_type": "code",
    "id": "0Xj6ru8xQoOD"
   },
   "outputs": [],
   "source": [
    "vgg16 = VGG16(weights= None, include_top=False, input_shape= (3,64,64))\n",
    "vgg16_model = my_network(vgg16,0.3,128)\n",
    "prediction_vgg16 = vgg16_model.predict(test)\n",
    "df = get_result(prediction_vgg16)\n",
    "df.to_csv('/content/drive/My Drive/6420 Predictive Analytics/HOMEWORK/HW4/vgg16_v2.csv', index = False)"
   ]
  },
  {
   "cell_type": "code",
   "execution_count": 0,
   "metadata": {
    "colab": {},
    "colab_type": "code",
    "id": "cgRh9Mv44qCo"
   },
   "outputs": [],
   "source": [
    "vgg16 = VGG16(weights= None, include_top=False, input_shape= (3,64,64))\n",
    "vgg16_model = my_network(vgg16,0.1,128)\n",
    "prediction_vgg16 = vgg16_model.predict(test)\n",
    "df = get_result(prediction_vgg16)\n",
    "df.to_csv('/content/drive/My Drive/6420 Predictive Analytics/HOMEWORK/HW4/vgg16_v3.csv', index = False)"
   ]
  },
  {
   "cell_type": "code",
   "execution_count": 0,
   "metadata": {
    "colab": {},
    "colab_type": "code",
    "id": "FnoB3dYv41hx"
   },
   "outputs": [],
   "source": [
    "vgg16 = VGG16(weights= None, include_top=False, input_shape= (3,64,64))\n",
    "vgg16_model = my_network(vgg16,0.6,128)\n",
    "prediction_vgg16 = vgg16_model.predict(test)\n",
    "df = get_result(prediction_vgg16)\n",
    "df.to_csv('/content/drive/My Drive/6420 Predictive Analytics/HOMEWORK/HW4/vgg16_v4.csv', index = False)"
   ]
  },
  {
   "cell_type": "code",
   "execution_count": 0,
   "metadata": {
    "colab": {},
    "colab_type": "code",
    "id": "ALXNIZQA8QMf"
   },
   "outputs": [],
   "source": [
    "vgg16 = VGG16(weights= None, include_top=False, input_shape= (3,64,64))\n",
    "vgg16_model = my_network(vgg16,0.2,64)\n",
    "prediction_vgg16 = vgg16_model.predict(test)\n",
    "df = get_result(prediction_vgg16)\n",
    "df.to_csv('/content/drive/My Drive/6420 Predictive Analytics/HOMEWORK/HW4/vgg16_v5.csv', index = False)"
   ]
  },
  {
   "cell_type": "markdown",
   "metadata": {},
   "source": [
    "#### VGG19"
   ]
  },
  {
   "cell_type": "markdown",
   "metadata": {
    "colab_type": "text",
    "id": "QP9fuFE1-Ur4"
   },
   "source": [
    "And the VGG19 only returns me 0.8 logloss so that I don't think VGG19 can do better in this situation. I just trained once."
   ]
  },
  {
   "cell_type": "code",
   "execution_count": 0,
   "metadata": {
    "colab": {},
    "colab_type": "code",
    "id": "jTkE5bzVtuLy"
   },
   "outputs": [],
   "source": [
    "vgg19 = VGG19(weights= None, include_top=False, input_shape= (3,64,64))\n",
    "vgg19_model = my_network(vgg19,0.2,128)\n",
    "prediction_vgg19 = vgg19_model.predict(test)\n",
    "df = get_result(prediction_vgg19)\n",
    "df.to_csv('/content/drive/My Drive/6420 Predictive Analytics/HOMEWORK/HW4/vgg19_v2.csv', index = False)"
   ]
  },
  {
   "cell_type": "markdown",
   "metadata": {},
   "source": [
    "#### Resnet 50"
   ]
  },
  {
   "cell_type": "markdown",
   "metadata": {
    "colab_type": "text",
    "id": "NJX79QllFBB9"
   },
   "source": [
    "Finally , I tries resnet50 with a logloss greater than 1"
   ]
  },
  {
   "cell_type": "code",
   "execution_count": 0,
   "metadata": {
    "colab": {},
    "colab_type": "code",
    "id": "xYpefd3Mt90e"
   },
   "outputs": [],
   "source": [
    "ResNet50 = ResNet50(weights= None, include_top=False, input_shape= (3,224,224))\n",
    "ResNet50_model = my_network(ResNet50,0.2,128)\n",
    "prediction_resnet50 = resnet_model.predict(test)\n",
    "df = get_result(prediction_resnet50)\n",
    "df.to_csv('/content/drive/My Drive/6420 Predictive Analytics/HOMEWORK/HW4/resnet.csv', index = False)"
   ]
  }
 ],
 "metadata": {
  "accelerator": "GPU",
  "colab": {
   "collapsed_sections": [],
   "name": "dogs-vs-cats.ipynb",
   "provenance": [],
   "toc_visible": true
  },
  "kernelspec": {
   "display_name": "Python 3",
   "language": "python",
   "name": "python3"
  },
  "language_info": {
   "codemirror_mode": {
    "name": "ipython",
    "version": 3
   },
   "file_extension": ".py",
   "mimetype": "text/x-python",
   "name": "python",
   "nbconvert_exporter": "python",
   "pygments_lexer": "ipython3",
   "version": "3.7.4"
  },
  "toc": {
   "base_numbering": 1,
   "nav_menu": {},
   "number_sections": true,
   "sideBar": true,
   "skip_h1_title": false,
   "title_cell": "Table of Contents",
   "title_sidebar": "Contents",
   "toc_cell": false,
   "toc_position": {},
   "toc_section_display": true,
   "toc_window_display": true
  },
  "varInspector": {
   "cols": {
    "lenName": 16,
    "lenType": 16,
    "lenVar": 40
   },
   "kernels_config": {
    "python": {
     "delete_cmd_postfix": "",
     "delete_cmd_prefix": "del ",
     "library": "var_list.py",
     "varRefreshCmd": "print(var_dic_list())"
    },
    "r": {
     "delete_cmd_postfix": ") ",
     "delete_cmd_prefix": "rm(",
     "library": "var_list.r",
     "varRefreshCmd": "cat(var_dic_list()) "
    }
   },
   "types_to_exclude": [
    "module",
    "function",
    "builtin_function_or_method",
    "instance",
    "_Feature"
   ],
   "window_display": false
  }
 },
 "nbformat": 4,
 "nbformat_minor": 1
}
